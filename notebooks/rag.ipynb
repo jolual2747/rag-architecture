{
 "cells": [
  {
   "cell_type": "markdown",
   "metadata": {},
   "source": [
    "## RAG Architecture\n",
    "\n",
    "A brief introduction and demo"
   ]
  },
  {
   "cell_type": "markdown",
   "metadata": {},
   "source": [
    "Let's explore our dataset. It's a dataset based on movies information scrapped from IMDB website and available on kaggle at:\n",
    "https://www.kaggle.com/datasets/utsh0dey/25k-movie-dataset"
   ]
  },
  {
   "cell_type": "code",
<<<<<<< HEAD
   "execution_count": 1,
   "metadata": {},
   "outputs": [
    {
     "data": {
      "text/html": [
       "<div>\n",
       "<style scoped>\n",
       "    .dataframe tbody tr th:only-of-type {\n",
       "        vertical-align: middle;\n",
       "    }\n",
       "\n",
       "    .dataframe tbody tr th {\n",
       "        vertical-align: top;\n",
       "    }\n",
       "\n",
       "    .dataframe thead th {\n",
       "        text-align: right;\n",
       "    }\n",
       "</style>\n",
       "<table border=\"1\" class=\"dataframe\">\n",
       "  <thead>\n",
       "    <tr style=\"text-align: right;\">\n",
       "      <th></th>\n",
       "      <th>movie title</th>\n",
       "      <th>Run Time</th>\n",
       "      <th>Rating</th>\n",
       "      <th>User Rating</th>\n",
       "      <th>Generes</th>\n",
       "      <th>Overview</th>\n",
       "      <th>Plot Kyeword</th>\n",
       "      <th>Director</th>\n",
       "      <th>Top 5 Casts</th>\n",
       "      <th>Writer</th>\n",
       "      <th>year</th>\n",
       "      <th>path</th>\n",
       "    </tr>\n",
       "  </thead>\n",
       "  <tbody>\n",
       "    <tr>\n",
       "      <th>0</th>\n",
       "      <td>Top Gun: Maverick</td>\n",
       "      <td>$170,000,000 (estimated)</td>\n",
       "      <td>8.6</td>\n",
       "      <td>187K</td>\n",
       "      <td>['Action', 'Drama']</td>\n",
       "      <td>After more than thirty years of service as one...</td>\n",
       "      <td>['fighter jet', 'sequel', 'u.s. navy', 'fighte...</td>\n",
       "      <td>Joseph Kosinski</td>\n",
       "      <td>['Jack Epps Jr.', 'Peter Craig', 'Tom Cruise',...</td>\n",
       "      <td>Jim Cash</td>\n",
       "      <td>-2022</td>\n",
       "      <td>/title/tt1745960/</td>\n",
       "    </tr>\n",
       "    <tr>\n",
       "      <th>1</th>\n",
       "      <td>Jurassic World Dominion</td>\n",
       "      <td>2 hours 27 minutes</td>\n",
       "      <td>6</td>\n",
       "      <td>56K</td>\n",
       "      <td>['Action', 'Adventure', 'Sci-Fi']</td>\n",
       "      <td>Four years after the destruction of Isla Nubla...</td>\n",
       "      <td>['dinosaur', 'jurassic park', 'tyrannosaurus r...</td>\n",
       "      <td>Colin Trevorrow</td>\n",
       "      <td>['Colin Trevorrow', 'Derek Connolly', 'Chris P...</td>\n",
       "      <td>Emily Carmichael</td>\n",
       "      <td>-2022</td>\n",
       "      <td>/title/tt8041270/</td>\n",
       "    </tr>\n",
       "    <tr>\n",
       "      <th>2</th>\n",
       "      <td>Top Gun</td>\n",
       "      <td>$15,000,000 (estimated)</td>\n",
       "      <td>6.9</td>\n",
       "      <td>380K</td>\n",
       "      <td>['Action', 'Drama']</td>\n",
       "      <td>As students at the United States Navy's elite ...</td>\n",
       "      <td>['pilot', 'male camaraderie', 'u.s. navy', 'gr...</td>\n",
       "      <td>Tony Scott</td>\n",
       "      <td>['Jack Epps Jr.', 'Ehud Yonay', 'Tom Cruise', ...</td>\n",
       "      <td>Jim Cash</td>\n",
       "      <td>-1986</td>\n",
       "      <td>/title/tt0092099/</td>\n",
       "    </tr>\n",
       "  </tbody>\n",
       "</table>\n",
       "</div>"
      ],
      "text/plain": [
       "               movie title                  Run Time Rating User Rating  \\\n",
       "0        Top Gun: Maverick  $170,000,000 (estimated)    8.6        187K   \n",
       "1  Jurassic World Dominion        2 hours 27 minutes      6         56K   \n",
       "2                  Top Gun   $15,000,000 (estimated)    6.9        380K   \n",
       "\n",
       "                             Generes  \\\n",
       "0                ['Action', 'Drama']   \n",
       "1  ['Action', 'Adventure', 'Sci-Fi']   \n",
       "2                ['Action', 'Drama']   \n",
       "\n",
       "                                            Overview  \\\n",
       "0  After more than thirty years of service as one...   \n",
       "1  Four years after the destruction of Isla Nubla...   \n",
       "2  As students at the United States Navy's elite ...   \n",
       "\n",
       "                                        Plot Kyeword         Director  \\\n",
       "0  ['fighter jet', 'sequel', 'u.s. navy', 'fighte...  Joseph Kosinski   \n",
       "1  ['dinosaur', 'jurassic park', 'tyrannosaurus r...  Colin Trevorrow   \n",
       "2  ['pilot', 'male camaraderie', 'u.s. navy', 'gr...       Tony Scott   \n",
       "\n",
       "                                         Top 5 Casts            Writer   year  \\\n",
       "0  ['Jack Epps Jr.', 'Peter Craig', 'Tom Cruise',...          Jim Cash  -2022   \n",
       "1  ['Colin Trevorrow', 'Derek Connolly', 'Chris P...  Emily Carmichael  -2022   \n",
       "2  ['Jack Epps Jr.', 'Ehud Yonay', 'Tom Cruise', ...          Jim Cash  -1986   \n",
       "\n",
       "                path  \n",
       "0  /title/tt1745960/  \n",
       "1  /title/tt8041270/  \n",
       "2  /title/tt0092099/  "
      ]
     },
     "execution_count": 1,
     "metadata": {},
     "output_type": "execute_result"
    }
   ],
=======
   "execution_count": null,
   "metadata": {},
   "outputs": [],
>>>>>>> new_changes
   "source": [
    "import pandas as pd\n",
    "\n",
    "df = pd.read_csv(\"../data/unprocessed/25k-imdb-movie-dataset.csv\")\n",
    "df.head(3)"
   ]
  },
  {
   "cell_type": "markdown",
   "metadata": {},
   "source": [
    "Let's do some transformations"
   ]
  },
  {
   "cell_type": "code",
<<<<<<< HEAD
   "execution_count": 5,
=======
   "execution_count": 2,
>>>>>>> new_changes
   "metadata": {},
   "outputs": [],
   "source": [
    "from ast import literal_eval\n",
    "\n",
    "def concat_list(list_: list) -> str:\n",
    "  \"\"\"Joins with ' ' every item from the list.\"\"\"\n",
    "  list_ = literal_eval(list_)\n",
    "  return ' '.join(list_)\n",
    "\n",
    "def string_to_list(string: str) -> list:\n",
    "  \"\"\"Literal eval. for a list\"\"\"\n",
    "  list_ = literal_eval(string)\n",
    "  return list_"
   ]
  },
  {
   "cell_type": "code",
   "execution_count": 17,
   "metadata": {},
   "outputs": [],
   "source": [
    "# Fill NAs, clean keywords, stars, generes and ratings\n",
    "df = df.fillna(' ')\n",
    "df['Keywords'] = df['Plot Kyeword'].apply(concat_list)\n",
    "df['Stars'] = df['Top 5 Casts'].apply(concat_list)\n",
    "df['Generes'] = df['Generes'].apply(concat_list)\n",
    "df['Rating'] = pd.to_numeric(df['Rating'], errors=\"coerce\").fillna(0).astype(\"float\")\n",
    "\n",
    "# Concatenate all to have a more complete description\n",
    "df['text'] = df.apply(lambda x : str(x['Overview']) + ' ' + x['Keywords'] + ' ' + x['Stars'], axis=1)"
   ]
  },
  {
   "cell_type": "markdown",
   "metadata": {},
   "source": [
    "Drop used columns"
   ]
  },
  {
   "cell_type": "code",
<<<<<<< HEAD
   "execution_count": 18,
   "metadata": {},
   "outputs": [
    {
     "data": {
      "text/html": [
       "<div>\n",
       "<style scoped>\n",
       "    .dataframe tbody tr th:only-of-type {\n",
       "        vertical-align: middle;\n",
       "    }\n",
       "\n",
       "    .dataframe tbody tr th {\n",
       "        vertical-align: top;\n",
       "    }\n",
       "\n",
       "    .dataframe thead th {\n",
       "        text-align: right;\n",
       "    }\n",
       "</style>\n",
       "<table border=\"1\" class=\"dataframe\">\n",
       "  <thead>\n",
       "    <tr style=\"text-align: right;\">\n",
       "      <th></th>\n",
       "      <th>movie title</th>\n",
       "      <th>Run Time</th>\n",
       "      <th>Rating</th>\n",
       "      <th>User Rating</th>\n",
       "      <th>Generes</th>\n",
       "      <th>Overview</th>\n",
       "      <th>Plot Kyeword</th>\n",
       "      <th>Director</th>\n",
       "      <th>Top 5 Casts</th>\n",
       "      <th>Writer</th>\n",
       "      <th>year</th>\n",
       "      <th>path</th>\n",
       "      <th>Keywords</th>\n",
       "      <th>Stars</th>\n",
       "      <th>text</th>\n",
       "    </tr>\n",
       "  </thead>\n",
       "  <tbody>\n",
       "    <tr>\n",
       "      <th>0</th>\n",
       "      <td>Top Gun: Maverick</td>\n",
       "      <td>$170,000,000 (estimated)</td>\n",
       "      <td>8.6</td>\n",
       "      <td>187K</td>\n",
       "      <td>Action Drama</td>\n",
       "      <td>After more than thirty years of service as one...</td>\n",
       "      <td>['fighter jet', 'sequel', 'u.s. navy', 'fighte...</td>\n",
       "      <td>Joseph Kosinski</td>\n",
       "      <td>['Jack Epps Jr.', 'Peter Craig', 'Tom Cruise',...</td>\n",
       "      <td>Jim Cash</td>\n",
       "      <td>-2022</td>\n",
       "      <td>/title/tt1745960/</td>\n",
       "      <td>fighter jet sequel u.s. navy fighter aircraft ...</td>\n",
       "      <td>Jack Epps Jr. Peter Craig Tom Cruise Jennifer ...</td>\n",
       "      <td>After more than thirty years of service as one...</td>\n",
       "    </tr>\n",
       "    <tr>\n",
       "      <th>1</th>\n",
       "      <td>Jurassic World Dominion</td>\n",
       "      <td>2 hours 27 minutes</td>\n",
       "      <td>6.0</td>\n",
       "      <td>56K</td>\n",
       "      <td>Action Adventure Sci-Fi</td>\n",
       "      <td>Four years after the destruction of Isla Nubla...</td>\n",
       "      <td>['dinosaur', 'jurassic park', 'tyrannosaurus r...</td>\n",
       "      <td>Colin Trevorrow</td>\n",
       "      <td>['Colin Trevorrow', 'Derek Connolly', 'Chris P...</td>\n",
       "      <td>Emily Carmichael</td>\n",
       "      <td>-2022</td>\n",
       "      <td>/title/tt8041270/</td>\n",
       "      <td>dinosaur jurassic park tyrannosaurus rex veloc...</td>\n",
       "      <td>Colin Trevorrow Derek Connolly Chris Pratt Bry...</td>\n",
       "      <td>Four years after the destruction of Isla Nubla...</td>\n",
       "    </tr>\n",
       "    <tr>\n",
       "      <th>2</th>\n",
       "      <td>Top Gun</td>\n",
       "      <td>$15,000,000 (estimated)</td>\n",
       "      <td>6.9</td>\n",
       "      <td>380K</td>\n",
       "      <td>Action Drama</td>\n",
       "      <td>As students at the United States Navy's elite ...</td>\n",
       "      <td>['pilot', 'male camaraderie', 'u.s. navy', 'gr...</td>\n",
       "      <td>Tony Scott</td>\n",
       "      <td>['Jack Epps Jr.', 'Ehud Yonay', 'Tom Cruise', ...</td>\n",
       "      <td>Jim Cash</td>\n",
       "      <td>-1986</td>\n",
       "      <td>/title/tt0092099/</td>\n",
       "      <td>pilot male camaraderie u.s. navy grumman f 14 ...</td>\n",
       "      <td>Jack Epps Jr. Ehud Yonay Tom Cruise Tim Robbin...</td>\n",
       "      <td>As students at the United States Navy's elite ...</td>\n",
       "    </tr>\n",
       "    <tr>\n",
       "      <th>3</th>\n",
       "      <td>Lightyear</td>\n",
       "      <td>$71,101,257</td>\n",
       "      <td>5.2</td>\n",
       "      <td>32K</td>\n",
       "      <td>Animation Action Adventure</td>\n",
       "      <td>While spending years attempting to return home...</td>\n",
       "      <td>['galaxy', 'spaceship', 'robot', 'rocket', 'sp...</td>\n",
       "      <td>Angus MacLane</td>\n",
       "      <td>['Jason Headley', 'Matthew Aldrich', 'Chris Ev...</td>\n",
       "      <td>Angus MacLane</td>\n",
       "      <td>-2022</td>\n",
       "      <td>/title/tt10298810/</td>\n",
       "      <td>galaxy spaceship robot rocket space adventure ...</td>\n",
       "      <td>Jason Headley Matthew Aldrich Chris Evans Keke...</td>\n",
       "      <td>While spending years attempting to return home...</td>\n",
       "    </tr>\n",
       "    <tr>\n",
       "      <th>4</th>\n",
       "      <td>Spiderhead</td>\n",
       "      <td>not-released</td>\n",
       "      <td>5.4</td>\n",
       "      <td>23K</td>\n",
       "      <td>Action Crime Drama</td>\n",
       "      <td>In the near future, convicts are offered the c...</td>\n",
       "      <td>['discover', 'medical', 'test', 'reality', 'fi...</td>\n",
       "      <td>Joseph Kosinski</td>\n",
       "      <td>['Rhett Reese', 'Paul Wernick', 'Chris Hemswor...</td>\n",
       "      <td>George Saunders</td>\n",
       "      <td>-2022</td>\n",
       "      <td>/title/tt9783600/</td>\n",
       "      <td>discover medical test reality fictional drug v...</td>\n",
       "      <td>Rhett Reese Paul Wernick Chris Hemsworth Miles...</td>\n",
       "      <td>In the near future, convicts are offered the c...</td>\n",
       "    </tr>\n",
       "  </tbody>\n",
       "</table>\n",
       "</div>"
      ],
      "text/plain": [
       "               movie title                  Run Time  Rating User Rating  \\\n",
       "0        Top Gun: Maverick  $170,000,000 (estimated)     8.6        187K   \n",
       "1  Jurassic World Dominion        2 hours 27 minutes     6.0         56K   \n",
       "2                  Top Gun   $15,000,000 (estimated)     6.9        380K   \n",
       "3                Lightyear               $71,101,257     5.2         32K   \n",
       "4               Spiderhead              not-released     5.4         23K   \n",
       "\n",
       "                      Generes  \\\n",
       "0                Action Drama   \n",
       "1     Action Adventure Sci-Fi   \n",
       "2                Action Drama   \n",
       "3  Animation Action Adventure   \n",
       "4          Action Crime Drama   \n",
       "\n",
       "                                            Overview  \\\n",
       "0  After more than thirty years of service as one...   \n",
       "1  Four years after the destruction of Isla Nubla...   \n",
       "2  As students at the United States Navy's elite ...   \n",
       "3  While spending years attempting to return home...   \n",
       "4  In the near future, convicts are offered the c...   \n",
       "\n",
       "                                        Plot Kyeword         Director  \\\n",
       "0  ['fighter jet', 'sequel', 'u.s. navy', 'fighte...  Joseph Kosinski   \n",
       "1  ['dinosaur', 'jurassic park', 'tyrannosaurus r...  Colin Trevorrow   \n",
       "2  ['pilot', 'male camaraderie', 'u.s. navy', 'gr...       Tony Scott   \n",
       "3  ['galaxy', 'spaceship', 'robot', 'rocket', 'sp...    Angus MacLane   \n",
       "4  ['discover', 'medical', 'test', 'reality', 'fi...  Joseph Kosinski   \n",
       "\n",
       "                                         Top 5 Casts            Writer   year  \\\n",
       "0  ['Jack Epps Jr.', 'Peter Craig', 'Tom Cruise',...          Jim Cash  -2022   \n",
       "1  ['Colin Trevorrow', 'Derek Connolly', 'Chris P...  Emily Carmichael  -2022   \n",
       "2  ['Jack Epps Jr.', 'Ehud Yonay', 'Tom Cruise', ...          Jim Cash  -1986   \n",
       "3  ['Jason Headley', 'Matthew Aldrich', 'Chris Ev...     Angus MacLane  -2022   \n",
       "4  ['Rhett Reese', 'Paul Wernick', 'Chris Hemswor...   George Saunders  -2022   \n",
       "\n",
       "                 path                                           Keywords  \\\n",
       "0   /title/tt1745960/  fighter jet sequel u.s. navy fighter aircraft ...   \n",
       "1   /title/tt8041270/  dinosaur jurassic park tyrannosaurus rex veloc...   \n",
       "2   /title/tt0092099/  pilot male camaraderie u.s. navy grumman f 14 ...   \n",
       "3  /title/tt10298810/  galaxy spaceship robot rocket space adventure ...   \n",
       "4   /title/tt9783600/  discover medical test reality fictional drug v...   \n",
       "\n",
       "                                               Stars  \\\n",
       "0  Jack Epps Jr. Peter Craig Tom Cruise Jennifer ...   \n",
       "1  Colin Trevorrow Derek Connolly Chris Pratt Bry...   \n",
       "2  Jack Epps Jr. Ehud Yonay Tom Cruise Tim Robbin...   \n",
       "3  Jason Headley Matthew Aldrich Chris Evans Keke...   \n",
       "4  Rhett Reese Paul Wernick Chris Hemsworth Miles...   \n",
       "\n",
       "                                                text  \n",
       "0  After more than thirty years of service as one...  \n",
       "1  Four years after the destruction of Isla Nubla...  \n",
       "2  As students at the United States Navy's elite ...  \n",
       "3  While spending years attempting to return home...  \n",
       "4  In the near future, convicts are offered the c...  "
      ]
     },
     "execution_count": 18,
     "metadata": {},
     "output_type": "execute_result"
    }
   ],
   "source": [
    "df.head()"
   ]
  },
  {
   "cell_type": "code",
   "execution_count": 19,
=======
   "execution_count": null,
>>>>>>> new_changes
   "metadata": {},
   "outputs": [],
   "source": [
    "df.drop(['Plot Kyeword','Top 5 Casts', 'Run Time', 'User Rating', 'path', 'year'],axis=1, inplace=True)"
   ]
  },
  {
   "cell_type": "code",
   "execution_count": 20,
   "metadata": {},
   "outputs": [],
   "source": [
    "df.to_csv(\"../data/processed/clean_dataframe.csv\", index = None)"
   ]
  },
  {
   "cell_type": "markdown",
   "metadata": {},
   "source": [
    "Generate Embeddings"
   ]
  },
  {
   "cell_type": "code",
   "execution_count": 24,
   "metadata": {},
   "outputs": [
    {
     "name": "stderr",
     "output_type": "stream",
     "text": [
      "Batches: 100%|██████████| 382/382 [08:10<00:00,  1.28s/it]\n"
     ]
    }
   ],
   "source": [
    "# You can use sentence_transformers if you have GPU, else you can use OpenAI Embeddings via API\n",
    "from sentence_transformers import SentenceTransformer\n",
    "model = SentenceTransformer('sentence-transformers/all-MiniLM-L6-v2')\n",
    "\n",
    "# Generate Embeddings\n",
    "embeddings = model.encode(df['text'], batch_size=64, show_progress_bar=True)"
   ]
  },
  {
   "cell_type": "code",
   "execution_count": 25,
   "metadata": {},
   "outputs": [],
   "source": [
    "# Asign Embeddings to a column\n",
    "df['embeddings'] = embeddings.tolist()\n",
    "\n",
    "# The vectorstore will need an id for every register\n",
    "df['ids'] = df.index\n",
    "df['ids'] = df['ids'].astype('str')"
   ]
  },
  {
   "cell_type": "code",
<<<<<<< HEAD
   "execution_count": 26,
   "metadata": {},
   "outputs": [],
   "source": [
    "# Save it\n",
    "df.to_csv(\"../data/processed/embeddings_dataset.csv\", index = False)"
=======
   "execution_count": 4,
   "metadata": {},
   "outputs": [],
   "source": [
    "import pandas as pd"
>>>>>>> new_changes
   ]
  },
  {
   "cell_type": "code",
<<<<<<< HEAD
   "execution_count": 3,
   "metadata": {},
   "outputs": [],
   "source": [
    "import pandas as pd\n",
    "\n",
    "df = pd.read_csv(\"../data/processed/embeddings_dataset.csv\")\n",
    "df['ids'] = df.index\n",
    "df['ids'] = df['ids'].astype('str')\n",
    "df.head(2)"
   ]
  },
  {
   "cell_type": "code",
   "execution_count": 6,
=======
   "execution_count": 11,
>>>>>>> new_changes
   "metadata": {},
   "outputs": [],
   "source": [
    "df['embeddings'] = df['embeddings'].apply(string_to_list)"
   ]
  },
  {
   "cell_type": "markdown",
   "metadata": {},
   "source": [
    "## Vector Store or Vector Database"
   ]
  },
  {
   "cell_type": "markdown",
   "metadata": {},
   "source": [
    "Chromadb: Chroma is the open-source embedding database. Chroma makes it easy to build LLM apps by making knowledge, facts, and skills pluggable for LLMs."
   ]
  },
  {
   "cell_type": "code",
   "execution_count": 2,
   "metadata": {},
   "outputs": [],
   "source": [
    "import chromadb\n",
    "from chromadb.utils import embedding_functions"
   ]
  },
  {
   "cell_type": "markdown",
   "metadata": {},
   "source": [
    "Instantiate a client and persist an embeddings database"
   ]
  },
  {
   "cell_type": "code",
   "execution_count": 6,
   "metadata": {},
   "outputs": [],
   "source": [
    "chroma_client = chromadb.Client()\n",
    "client_persistent = chromadb.PersistentClient(path='../data/data_embeddings')"
   ]
  },
  {
   "cell_type": "markdown",
   "metadata": {},
   "source": [
    "### Sentence Transformer Embeddings: Open-source model"
   ]
  },
  {
   "cell_type": "code",
   "execution_count": 9,
   "metadata": {},
   "outputs": [
    {
     "name": "stderr",
     "output_type": "stream",
     "text": [
      "/home/josealcocer27/.cache/pypoetry/virtualenvs/rag-architecture-QupOUSK4-py3.11/lib/python3.11/site-packages/tqdm/auto.py:21: TqdmWarning: IProgress not found. Please update jupyter and ipywidgets. See https://ipywidgets.readthedocs.io/en/stable/user_install.html\n",
      "  from .autonotebook import tqdm as notebook_tqdm\n"
     ]
    }
   ],
   "source": [
    "sentence_transformer_function = embedding_functions.SentenceTransformerEmbeddingFunction(\n",
    "    model_name=\"all-MiniLM-L6-v2\"\n",
    ")"
   ]
  },
  {
   "cell_type": "markdown",
   "metadata": {},
   "source": [
    "Create collection"
   ]
  },
  {
   "cell_type": "code",
   "execution_count": 10,
   "metadata": {},
   "outputs": [],
   "source": [
    "db_embeddings = client_persistent.create_collection(\n",
    "    name='movies_db_embeddings', \n",
    "    embedding_function= sentence_transformer_function\n",
    ")"
   ]
  },
  {
   "cell_type": "markdown",
   "metadata": {},
   "source": [
    "Just to make a demo, we are going to use only top 2500 rows"
   ]
  },
  {
   "cell_type": "code",
   "execution_count": 11,
   "metadata": {},
   "outputs": [],
   "source": [
    "df = df.head(2500)"
   ]
  },
  {
   "cell_type": "markdown",
   "metadata": {},
   "source": [
    "Add embeddings and metadata to embedding database"
   ]
  },
  {
   "cell_type": "code",
   "execution_count": 12,
   "metadata": {},
   "outputs": [],
   "source": [
    "db_embeddings.add(\n",
    "    ids=df['ids'].tolist(),\n",
    "    embeddings=df['embeddings'].tolist(),\n",
    "    metadatas= df.drop(['ids','embeddings','text'],axis=1).to_dict('records')\n",
    ")"
   ]
  },
  {
   "cell_type": "markdown",
   "metadata": {},
   "source": [
    "Let's test with a query 🤓"
   ]
  },
  {
   "cell_type": "code",
   "execution_count": 29,
   "metadata": {},
   "outputs": [
    {
     "data": {
<<<<<<< HEAD
      "text/plain": [
       "{'ids': [['588', '221', '757']],\n",
       " 'distances': [[1.0778145790100098, 1.1239492893218994, 1.12748122215271]],\n",
       " 'metadatas': [[{'Director': 'Leigh Whannell',\n",
       "    'Generes': 'Action Sci-Fi Thriller',\n",
       "    'Keywords': 'microchip dystopia revenge surgery artificial intelligence violence widower quadriplegic near future cyborg',\n",
       "    'Overview': 'Set in the near-future, technology controls nearly all aspects of life. But when the world of Grey, a self-labeled technophobe, is turned upside down, his only hope for revenge is an experimental computer chip implant.',\n",
       "    'Rating': 7.5,\n",
       "    'Stars': 'Logan Marshall-Green Melanie Vallejo Steve Danielsen Leigh Whannell Leigh Whannell',\n",
       "    'Writer': 'Leigh Whannell',\n",
       "    'movie title': 'Upgrade'},\n",
       "   {'Director': 'Steven Spielberg',\n",
       "    'Generes': 'Action Crime Mystery',\n",
       "    'Keywords': 'year 2054 future noir neo noir washington d.c. psychic computer halo eye scanning futuristic predictive policing',\n",
       "    'Overview': 'In a future where a special police unit is able to arrest murderers before they commit their crimes, an officer from that unit is himself accused of a future murder.',\n",
       "    'Rating': 7.7,\n",
       "    'Stars': 'Scott Frank Jon Cohen Tom Cruise Colin Farrell Samantha Morton',\n",
       "    'Writer': 'Philip K. Dick',\n",
       "    'movie title': 'Minority Report'},\n",
       "   {'Director': 'Jonathan Mostow',\n",
       "    'Generes': 'Action Sci-Fi',\n",
       "    'Keywords': 'time travel skynet humanoid cyborg exploding truck nuclear launch cyborg computer virus nuclear war man versus machine one against many',\n",
       "    'Overview': 'A machine from a post-apocalyptic future travels back in time to protect a man and a woman from an advanced robotic assassin to ensure they both survive a nuclear attack.',\n",
       "    'Rating': 6.3,\n",
       "    'Stars': 'Michael Ferris Tedi Sarafian Arnold Schwarzenegger Nick Stahl Kristanna Loken',\n",
       "    'Writer': 'John Brancato',\n",
       "    'movie title': 'Terminator 3: Rise of the Machines'}]],\n",
       " 'embeddings': None,\n",
       " 'documents': [[None, None, None]]}"
      ]
     },
     "execution_count": 29,
=======
      "text/html": [
       "<div>\n",
       "<style scoped>\n",
       "    .dataframe tbody tr th:only-of-type {\n",
       "        vertical-align: middle;\n",
       "    }\n",
       "\n",
       "    .dataframe tbody tr th {\n",
       "        vertical-align: top;\n",
       "    }\n",
       "\n",
       "    .dataframe thead th {\n",
       "        text-align: right;\n",
       "    }\n",
       "</style>\n",
       "<table border=\"1\" class=\"dataframe\">\n",
       "  <thead>\n",
       "    <tr style=\"text-align: right;\">\n",
       "      <th></th>\n",
       "      <th>movie title</th>\n",
       "      <th>Rating</th>\n",
       "      <th>Generes</th>\n",
       "      <th>Overview</th>\n",
       "      <th>Director</th>\n",
       "      <th>Writer</th>\n",
       "      <th>Keywords</th>\n",
       "      <th>Stars</th>\n",
       "      <th>text</th>\n",
       "      <th>embeddings</th>\n",
       "      <th>ids</th>\n",
       "    </tr>\n",
       "  </thead>\n",
       "  <tbody>\n",
       "    <tr>\n",
       "      <th>0</th>\n",
       "      <td>Top Gun: Maverick</td>\n",
       "      <td>8.6</td>\n",
       "      <td>Action Drama</td>\n",
       "      <td>After more than thirty years of service as one...</td>\n",
       "      <td>Joseph Kosinski</td>\n",
       "      <td>Jim Cash</td>\n",
       "      <td>fighter jet sequel u.s. navy fighter aircraft ...</td>\n",
       "      <td>Jack Epps Jr. Peter Craig Tom Cruise Jennifer ...</td>\n",
       "      <td>After more than thirty years of service as one...</td>\n",
       "      <td>[-0.07095595449209213, -0.009480987675487995, ...</td>\n",
       "      <td>0</td>\n",
       "    </tr>\n",
       "    <tr>\n",
       "      <th>1</th>\n",
       "      <td>Jurassic World Dominion</td>\n",
       "      <td>6.0</td>\n",
       "      <td>Action Adventure Sci-Fi</td>\n",
       "      <td>Four years after the destruction of Isla Nubla...</td>\n",
       "      <td>Colin Trevorrow</td>\n",
       "      <td>Emily Carmichael</td>\n",
       "      <td>dinosaur jurassic park tyrannosaurus rex veloc...</td>\n",
       "      <td>Colin Trevorrow Derek Connolly Chris Pratt Bry...</td>\n",
       "      <td>Four years after the destruction of Isla Nubla...</td>\n",
       "      <td>[-0.025362147018313408, -0.06149573251605034, ...</td>\n",
       "      <td>1</td>\n",
       "    </tr>\n",
       "  </tbody>\n",
       "</table>\n",
       "</div>"
      ],
      "text/plain": [
       "               movie title  Rating                  Generes  \\\n",
       "0        Top Gun: Maverick     8.6             Action Drama   \n",
       "1  Jurassic World Dominion     6.0  Action Adventure Sci-Fi   \n",
       "\n",
       "                                            Overview         Director  \\\n",
       "0  After more than thirty years of service as one...  Joseph Kosinski   \n",
       "1  Four years after the destruction of Isla Nubla...  Colin Trevorrow   \n",
       "\n",
       "             Writer                                           Keywords  \\\n",
       "0          Jim Cash  fighter jet sequel u.s. navy fighter aircraft ...   \n",
       "1  Emily Carmichael  dinosaur jurassic park tyrannosaurus rex veloc...   \n",
       "\n",
       "                                               Stars  \\\n",
       "0  Jack Epps Jr. Peter Craig Tom Cruise Jennifer ...   \n",
       "1  Colin Trevorrow Derek Connolly Chris Pratt Bry...   \n",
       "\n",
       "                                                text  \\\n",
       "0  After more than thirty years of service as one...   \n",
       "1  Four years after the destruction of Isla Nubla...   \n",
       "\n",
       "                                          embeddings ids  \n",
       "0  [-0.07095595449209213, -0.009480987675487995, ...   0  \n",
       "1  [-0.025362147018313408, -0.06149573251605034, ...   1  "
      ]
     },
     "execution_count": 11,
>>>>>>> new_changes
     "metadata": {},
     "output_type": "execute_result"
    }
   ],
   "source": [
<<<<<<< HEAD
    "results = db_embeddings.query(\n",
    "    query_texts=['computers and future'],\n",
    "    n_results=3\n",
    ")\n",
    "\n",
    "results"
=======
    "# Save it\n",
    "df = pd.read_csv(\"../data/processed/embeddings_dataset.csv\")\n",
    "df['ids'] = df.index\n",
    "df['ids'] = df['ids'].astype('str')\n",
    "df['embeddings'] = df['embeddings'].apply(string_to_list)\n",
    "df.head(2)"
>>>>>>> new_changes
   ]
  },
  {
   "cell_type": "code",
   "execution_count": 13,
   "metadata": {},
   "outputs": [],
   "source": [
<<<<<<< HEAD
    "results = db_embeddings.query(\n",
    "    query_texts=['kill someone'],\n",
    "    n_results=3\n",
    ")"
=======
    "## Vector Store or Vector Database\n",
    "\n",
    "Chromadb\n",
    "\n",
    "Chroma is the open-source embedding database. Chroma makes it easy to build LLM apps by making knowledge, facts, and skills pluggable for LLMs."
>>>>>>> new_changes
   ]
  },
  {
   "cell_type": "code",
<<<<<<< HEAD
   "execution_count": 31,
=======
   "execution_count": 8,
>>>>>>> new_changes
   "metadata": {},
   "outputs": [],
   "source": [
    "import nltk"
   ]
  },
  {
   "cell_type": "markdown",
   "metadata": {},
   "source": [
    "Instantiate client and persist Embeddings Datatabase"
   ]
  },
  {
   "cell_type": "code",
<<<<<<< HEAD
   "execution_count": 38,
   "metadata": {},
   "outputs": [
    {
     "data": {
      "text/plain": [
       "FileSystemPathPointer('/home/josealcocer27/nltk_data/corpora/stopwords')"
      ]
     },
     "execution_count": 38,
     "metadata": {},
     "output_type": "execute_result"
    }
   ],
   "source": [
    "nltk.data.find('corpora/stopwords')"
   ]
  },
  {
   "cell_type": "code",
   "execution_count": 17,
=======
   "execution_count": 9,
>>>>>>> new_changes
   "metadata": {},
   "outputs": [],
   "source": [
    "results = db_embeddings.query(\n",
    "    query_texts=['someone wins a trophy'],\n",
    "    n_results=3\n",
    ")"
   ]
  },
  {
   "cell_type": "markdown",
   "metadata": {},
   "source": [
    "### OpenAI Embeddings: Private Embedding model"
   ]
  },
  {
   "cell_type": "code",
   "execution_count": 39,
   "metadata": {},
   "outputs": [],
   "source": [
    "import os\n",
    "api_key = os.getenv(\"OPENAI_API_KEY\")"
   ]
  },
  {
   "cell_type": "markdown",
   "metadata": {},
   "source": [
    "### Sentence Transformers: open-source embeddings model\n",
    "Define Embedding function"
   ]
  },
  {
   "cell_type": "code",
   "execution_count": 10,
   "metadata": {},
   "outputs": [
    {
     "name": "stderr",
     "output_type": "stream",
     "text": [
      "/home/josealcocer27/.cache/pypoetry/virtualenvs/rag-architecture-QupOUSK4-py3.11/lib/python3.11/site-packages/tqdm/auto.py:21: TqdmWarning: IProgress not found. Please update jupyter and ipywidgets. See https://ipywidgets.readthedocs.io/en/stable/user_install.html\n",
      "  from .autonotebook import tqdm as notebook_tqdm\n"
     ]
    }
   ],
   "source": [
    "sentence_transformer_function = embedding_functions.SentenceTransformerEmbeddingFunction(\n",
    "    model_name=\"all-MiniLM-L6-v2\"\n",
    ")"
   ]
  },
  {
   "cell_type": "markdown",
   "metadata": {},
   "source": [
    "Create the collection"
   ]
  },
  {
   "cell_type": "code",
   "execution_count": 12,
   "metadata": {},
   "outputs": [],
   "source": [
    "db_embeddings = client_persistent.get_or_create_collection(\n",
    "    name='movies_db_embeddings', \n",
    "    embedding_function= sentence_transformer_function\n",
    ")"
   ]
  },
  {
   "cell_type": "markdown",
   "metadata": {},
   "source": [
    "For test reasons, We will select only top 2500 rows"
   ]
  },
  {
   "cell_type": "code",
   "execution_count": 13,
   "metadata": {},
   "outputs": [],
   "source": [
    "df = df.head(2500)"
   ]
  },
  {
   "cell_type": "markdown",
   "metadata": {},
   "source": [
    "Add rows to vector database"
   ]
  },
  {
   "cell_type": "code",
   "execution_count": 14,
   "metadata": {},
   "outputs": [],
   "source": [
    "db_embeddings.add(\n",
    "    ids=df['ids'].tolist(),\n",
    "    embeddings=df['embeddings'].tolist(),\n",
    "    metadatas=df.drop(['ids','embeddings','text'],axis=1).to_dict('records')\n",
    ")"
   ]
  },
  {
   "cell_type": "markdown",
   "metadata": {},
   "source": [
    "Let's test it with a query"
   ]
  },
  {
   "cell_type": "code",
   "execution_count": 15,
   "metadata": {},
   "outputs": [],
   "source": [
<<<<<<< HEAD
    "openai_function = embedding_functions.OpenAIEmbeddingFunction(\n",
    "    api_key='xxxxxxxx',\n",
    "    model_name = 'text-embedding-ada-002'\n",
    ")\n"
=======
    "results = db_embeddings.query(\n",
    "    query_texts=['a history about a theft'],\n",
    "    n_results=2\n",
    ")"
   ]
  },
  {
   "cell_type": "code",
   "execution_count": 16,
   "metadata": {},
   "outputs": [
    {
     "data": {
      "text/plain": [
       "{'ids': [['2394', '1312']],\n",
       " 'distances': [[0.8909051418304443, 0.9687187075614929]],\n",
       " 'metadatas': [[{'Director': 'Brian A. Miller',\n",
       "    'Generes': 'Action Drama Thriller',\n",
       "    'Keywords': 'car stolen money gunfight firefight shot to death amnesia hidden loot gunshot wound wounded in the head head injury',\n",
       "    'Overview': 'The lone surviving thief of a violent armored car robbery is sprung from a high security facility and administered an experimental drug.',\n",
       "    'Rating': 3.8,\n",
       "    'Stars': 'Ryan Guzman Sylvester Stallone Meadow Williams Brian A. Miller Mike Maples',\n",
       "    'Writer': 'Mike Maples',\n",
       "    'movie title': 'Backtrace'},\n",
       "   {'Director': 'Gemma Mc Carthy',\n",
       "    'Generes': 'Action',\n",
       "    'Overview': 'A thief gets out of prison after many years and decides to try and locate someone from his past. After a series of events, he ends up becoming sheriff. Now he has to face his past while in his new position as sheriff.',\n",
       "    'Rating': 8.5,\n",
       "    'Stars': \"Jonathan O' Dwyer Sean Flood Frank Hurley Gemma Mc Carthy Gemma Mc Carthy\",\n",
       "    'Writer': 'Gemma Mc Carthy',\n",
       "    'movie title': 'Banshee'}]],\n",
       " 'embeddings': None,\n",
       " 'documents': [[None, None]]}"
      ]
     },
     "execution_count": 16,
     "metadata": {},
     "output_type": "execute_result"
    }
   ],
   "source": [
    "results"
   ]
  },
  {
   "cell_type": "code",
   "execution_count": 16,
   "metadata": {},
   "outputs": [],
   "source": [
    "from utils import make_a_query\n",
    "\n",
    "make_a_query(\n",
    "    query = \"\"\n",
    ")"
>>>>>>> new_changes
   ]
  }
 ],
 "metadata": {
  "kernelspec": {
   "display_name": "rag-QupOUSK4-py3.8",
   "language": "python",
   "name": "python3"
  },
  "language_info": {
   "codemirror_mode": {
    "name": "ipython",
    "version": 3
   },
   "file_extension": ".py",
   "mimetype": "text/x-python",
   "name": "python",
   "nbconvert_exporter": "python",
   "pygments_lexer": "ipython3",
   "version": "3.11.8"
  }
 },
 "nbformat": 4,
 "nbformat_minor": 2
}
