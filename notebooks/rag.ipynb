{
 "cells": [
  {
   "cell_type": "markdown",
   "metadata": {},
   "source": [
    "## RAG Architecture\n",
    "\n",
    "A brief introduction and demo"
   ]
  },
  {
   "cell_type": "markdown",
   "metadata": {},
   "source": [
    "Let's explore our dataset. It's a dataset based on movies information scrapped from IMDB website and available on kaggle at:\n",
    "https://www.kaggle.com/datasets/utsh0dey/25k-movie-dataset"
   ]
  },
  {
   "cell_type": "code",
   "execution_count": 1,
   "metadata": {},
   "outputs": [
    {
     "data": {
      "text/html": [
       "<div>\n",
       "<style scoped>\n",
       "    .dataframe tbody tr th:only-of-type {\n",
       "        vertical-align: middle;\n",
       "    }\n",
       "\n",
       "    .dataframe tbody tr th {\n",
       "        vertical-align: top;\n",
       "    }\n",
       "\n",
       "    .dataframe thead th {\n",
       "        text-align: right;\n",
       "    }\n",
       "</style>\n",
       "<table border=\"1\" class=\"dataframe\">\n",
       "  <thead>\n",
       "    <tr style=\"text-align: right;\">\n",
       "      <th></th>\n",
       "      <th>movie title</th>\n",
       "      <th>Run Time</th>\n",
       "      <th>Rating</th>\n",
       "      <th>User Rating</th>\n",
       "      <th>Generes</th>\n",
       "      <th>Overview</th>\n",
       "      <th>Plot Kyeword</th>\n",
       "      <th>Director</th>\n",
       "      <th>Top 5 Casts</th>\n",
       "      <th>Writer</th>\n",
       "      <th>year</th>\n",
       "      <th>path</th>\n",
       "    </tr>\n",
       "  </thead>\n",
       "  <tbody>\n",
       "    <tr>\n",
       "      <th>0</th>\n",
       "      <td>Top Gun: Maverick</td>\n",
       "      <td>$170,000,000 (estimated)</td>\n",
       "      <td>8.6</td>\n",
       "      <td>187K</td>\n",
       "      <td>['Action', 'Drama']</td>\n",
       "      <td>After more than thirty years of service as one...</td>\n",
       "      <td>['fighter jet', 'sequel', 'u.s. navy', 'fighte...</td>\n",
       "      <td>Joseph Kosinski</td>\n",
       "      <td>['Jack Epps Jr.', 'Peter Craig', 'Tom Cruise',...</td>\n",
       "      <td>Jim Cash</td>\n",
       "      <td>-2022</td>\n",
       "      <td>/title/tt1745960/</td>\n",
       "    </tr>\n",
       "    <tr>\n",
       "      <th>1</th>\n",
       "      <td>Jurassic World Dominion</td>\n",
       "      <td>2 hours 27 minutes</td>\n",
       "      <td>6</td>\n",
       "      <td>56K</td>\n",
       "      <td>['Action', 'Adventure', 'Sci-Fi']</td>\n",
       "      <td>Four years after the destruction of Isla Nubla...</td>\n",
       "      <td>['dinosaur', 'jurassic park', 'tyrannosaurus r...</td>\n",
       "      <td>Colin Trevorrow</td>\n",
       "      <td>['Colin Trevorrow', 'Derek Connolly', 'Chris P...</td>\n",
       "      <td>Emily Carmichael</td>\n",
       "      <td>-2022</td>\n",
       "      <td>/title/tt8041270/</td>\n",
       "    </tr>\n",
       "    <tr>\n",
       "      <th>2</th>\n",
       "      <td>Top Gun</td>\n",
       "      <td>$15,000,000 (estimated)</td>\n",
       "      <td>6.9</td>\n",
       "      <td>380K</td>\n",
       "      <td>['Action', 'Drama']</td>\n",
       "      <td>As students at the United States Navy's elite ...</td>\n",
       "      <td>['pilot', 'male camaraderie', 'u.s. navy', 'gr...</td>\n",
       "      <td>Tony Scott</td>\n",
       "      <td>['Jack Epps Jr.', 'Ehud Yonay', 'Tom Cruise', ...</td>\n",
       "      <td>Jim Cash</td>\n",
       "      <td>-1986</td>\n",
       "      <td>/title/tt0092099/</td>\n",
       "    </tr>\n",
       "  </tbody>\n",
       "</table>\n",
       "</div>"
      ],
      "text/plain": [
       "               movie title                  Run Time Rating User Rating  \\\n",
       "0        Top Gun: Maverick  $170,000,000 (estimated)    8.6        187K   \n",
       "1  Jurassic World Dominion        2 hours 27 minutes      6         56K   \n",
       "2                  Top Gun   $15,000,000 (estimated)    6.9        380K   \n",
       "\n",
       "                             Generes  \\\n",
       "0                ['Action', 'Drama']   \n",
       "1  ['Action', 'Adventure', 'Sci-Fi']   \n",
       "2                ['Action', 'Drama']   \n",
       "\n",
       "                                            Overview  \\\n",
       "0  After more than thirty years of service as one...   \n",
       "1  Four years after the destruction of Isla Nubla...   \n",
       "2  As students at the United States Navy's elite ...   \n",
       "\n",
       "                                        Plot Kyeword         Director  \\\n",
       "0  ['fighter jet', 'sequel', 'u.s. navy', 'fighte...  Joseph Kosinski   \n",
       "1  ['dinosaur', 'jurassic park', 'tyrannosaurus r...  Colin Trevorrow   \n",
       "2  ['pilot', 'male camaraderie', 'u.s. navy', 'gr...       Tony Scott   \n",
       "\n",
       "                                         Top 5 Casts            Writer   year  \\\n",
       "0  ['Jack Epps Jr.', 'Peter Craig', 'Tom Cruise',...          Jim Cash  -2022   \n",
       "1  ['Colin Trevorrow', 'Derek Connolly', 'Chris P...  Emily Carmichael  -2022   \n",
       "2  ['Jack Epps Jr.', 'Ehud Yonay', 'Tom Cruise', ...          Jim Cash  -1986   \n",
       "\n",
       "                path  \n",
       "0  /title/tt1745960/  \n",
       "1  /title/tt8041270/  \n",
       "2  /title/tt0092099/  "
      ]
     },
     "execution_count": 1,
     "metadata": {},
     "output_type": "execute_result"
    }
   ],
   "source": [
    "import pandas as pd\n",
    "\n",
    "df = pd.read_csv(\"../data/unprocessed/25k-imdb-movie-dataset.csv\")\n",
    "df.head(3)"
   ]
  },
  {
   "cell_type": "markdown",
   "metadata": {},
   "source": [
    "Let's do some transformations"
   ]
  },
  {
   "cell_type": "code",
   "execution_count": 2,
   "metadata": {},
   "outputs": [],
   "source": [
    "from ast import literal_eval\n",
    "\n",
    "def concat_list(list_: list) -> str:\n",
    "  \"\"\"Joins with ' ' every item from the list.\"\"\"\n",
    "  list_ = literal_eval(list_)\n",
    "  return ' '.join(list_)\n",
    "\n",
    "def string_to_list(string: str) -> list:\n",
    "  \"\"\"Literal eval. for a list\"\"\"\n",
    "  list_ = literal_eval(string)\n",
    "  return list_"
   ]
  },
  {
   "cell_type": "code",
   "execution_count": 3,
   "metadata": {},
   "outputs": [],
   "source": [
    "# Fill NAs, clean keywords, stars, generes and ratings\n",
    "df = df.fillna(' ')\n",
    "df['Keywords'] = df['Plot Kyeword'].apply(concat_list)\n",
    "df['Stars'] = df['Top 5 Casts'].apply(concat_list)\n",
    "df['Generes'] = df['Generes'].apply(string_to_list)\n",
    "df['Rating'] = pd.to_numeric(df['Rating'], errors=\"coerce\").fillna(0).astype(\"float\")\n",
    "\n",
    "# Concatenate all to have a more complete description\n",
    "df['text'] = df.apply(lambda x : str(x['Overview']) + ' ' + x['Keywords'] + ' ' + x['Stars'], axis=1)"
   ]
  },
  {
   "cell_type": "markdown",
   "metadata": {},
   "source": [
    "Drop used columns"
   ]
  },
  {
   "cell_type": "code",
   "execution_count": 6,
   "metadata": {},
   "outputs": [],
   "source": [
    "df.drop(['Plot Kyeword','Top 5 Casts'],axis=1, inplace=True)"
   ]
  },
  {
   "cell_type": "markdown",
   "metadata": {},
   "source": [
    "Generate Embeddings"
   ]
  },
  {
   "cell_type": "code",
   "execution_count": null,
   "metadata": {},
   "outputs": [],
   "source": [
    "# You can use sentence_transformers if you have GPU, else you can use OpenAI Embeddings via API\n",
    "from sentence_transformers import SentenceTransformer\n",
    "model = SentenceTransformer('sentence-transformers/all-MiniLM-L6-v2')\n",
    "\n",
    "# Generate Embeddings\n",
    "embeddings = model.encode(df['text'], batch_size=64, show_progress_bar=True)"
   ]
  },
  {
   "cell_type": "code",
   "execution_count": null,
   "metadata": {},
   "outputs": [],
   "source": [
    "# Asign Embeddings to a column\n",
    "df['embeddings'] = embeddings.tolist()\n",
    "\n",
    "# The vectorstore will need an id for every register\n",
    "df['ids'] = df.index\n",
    "df['ids'] = df['ids'].astype('str')"
   ]
  },
  {
   "cell_type": "code",
   "execution_count": 6,
   "metadata": {},
   "outputs": [
    {
     "data": {
      "text/html": [
       "<div>\n",
       "<style scoped>\n",
       "    .dataframe tbody tr th:only-of-type {\n",
       "        vertical-align: middle;\n",
       "    }\n",
       "\n",
       "    .dataframe tbody tr th {\n",
       "        vertical-align: top;\n",
       "    }\n",
       "\n",
       "    .dataframe thead th {\n",
       "        text-align: right;\n",
       "    }\n",
       "</style>\n",
       "<table border=\"1\" class=\"dataframe\">\n",
       "  <thead>\n",
       "    <tr style=\"text-align: right;\">\n",
       "      <th></th>\n",
       "      <th>movie title</th>\n",
       "      <th>Run Time</th>\n",
       "      <th>Rating</th>\n",
       "      <th>User Rating</th>\n",
       "      <th>Generes</th>\n",
       "      <th>Overview</th>\n",
       "      <th>Director</th>\n",
       "      <th>Writer</th>\n",
       "      <th>year</th>\n",
       "      <th>path</th>\n",
       "      <th>Keywords</th>\n",
       "      <th>Stars</th>\n",
       "      <th>text</th>\n",
       "      <th>ids</th>\n",
       "      <th>embeddings</th>\n",
       "    </tr>\n",
       "  </thead>\n",
       "  <tbody>\n",
       "    <tr>\n",
       "      <th>0</th>\n",
       "      <td>Top Gun: Maverick</td>\n",
       "      <td>$170,000,000 (estimated)</td>\n",
       "      <td>8.6</td>\n",
       "      <td>187K</td>\n",
       "      <td>['Action', 'Drama']</td>\n",
       "      <td>After more than thirty years of service as one...</td>\n",
       "      <td>Joseph Kosinski</td>\n",
       "      <td>Jim Cash</td>\n",
       "      <td>-2022</td>\n",
       "      <td>/title/tt1745960/</td>\n",
       "      <td>fighter jet sequel u.s. navy fighter aircraft ...</td>\n",
       "      <td>Jack Epps Jr. Peter Craig Tom Cruise Jennifer ...</td>\n",
       "      <td>After more than thirty years of service as one...</td>\n",
       "      <td>0</td>\n",
       "      <td>[-0.07095592468976974, -0.009481011889874935, ...</td>\n",
       "    </tr>\n",
       "    <tr>\n",
       "      <th>1</th>\n",
       "      <td>Jurassic World Dominion</td>\n",
       "      <td>2 hours 27 minutes</td>\n",
       "      <td>6.0</td>\n",
       "      <td>56K</td>\n",
       "      <td>['Action', 'Adventure', 'Sci-Fi']</td>\n",
       "      <td>Four years after the destruction of Isla Nubla...</td>\n",
       "      <td>Colin Trevorrow</td>\n",
       "      <td>Emily Carmichael</td>\n",
       "      <td>-2022</td>\n",
       "      <td>/title/tt8041270/</td>\n",
       "      <td>dinosaur jurassic park tyrannosaurus rex veloc...</td>\n",
       "      <td>Colin Trevorrow Derek Connolly Chris Pratt Bry...</td>\n",
       "      <td>Four years after the destruction of Isla Nubla...</td>\n",
       "      <td>1</td>\n",
       "      <td>[-0.0253621693700552, -0.06149572879076004, 0....</td>\n",
       "    </tr>\n",
       "  </tbody>\n",
       "</table>\n",
       "</div>"
      ],
      "text/plain": [
       "               movie title                  Run Time  Rating User Rating  \\\n",
       "0        Top Gun: Maverick  $170,000,000 (estimated)     8.6        187K   \n",
       "1  Jurassic World Dominion        2 hours 27 minutes     6.0         56K   \n",
       "\n",
       "                             Generes  \\\n",
       "0                ['Action', 'Drama']   \n",
       "1  ['Action', 'Adventure', 'Sci-Fi']   \n",
       "\n",
       "                                            Overview         Director  \\\n",
       "0  After more than thirty years of service as one...  Joseph Kosinski   \n",
       "1  Four years after the destruction of Isla Nubla...  Colin Trevorrow   \n",
       "\n",
       "             Writer   year               path  \\\n",
       "0          Jim Cash  -2022  /title/tt1745960/   \n",
       "1  Emily Carmichael  -2022  /title/tt8041270/   \n",
       "\n",
       "                                            Keywords  \\\n",
       "0  fighter jet sequel u.s. navy fighter aircraft ...   \n",
       "1  dinosaur jurassic park tyrannosaurus rex veloc...   \n",
       "\n",
       "                                               Stars  \\\n",
       "0  Jack Epps Jr. Peter Craig Tom Cruise Jennifer ...   \n",
       "1  Colin Trevorrow Derek Connolly Chris Pratt Bry...   \n",
       "\n",
       "                                                text  ids  \\\n",
       "0  After more than thirty years of service as one...    0   \n",
       "1  Four years after the destruction of Isla Nubla...    1   \n",
       "\n",
       "                                          embeddings  \n",
       "0  [-0.07095592468976974, -0.009481011889874935, ...  \n",
       "1  [-0.0253621693700552, -0.06149572879076004, 0....  "
      ]
     },
     "execution_count": 6,
     "metadata": {},
     "output_type": "execute_result"
    }
   ],
   "source": [
    "# to delete\n",
    "df = pd.read_csv(\"../data/processed/embeddings_dataset.csv\")\n",
    "df.head(2)"
   ]
  },
  {
   "cell_type": "markdown",
   "metadata": {},
   "source": [
    "## Vector Store or Vector Database"
   ]
  },
  {
   "cell_type": "code",
   "execution_count": 3,
   "metadata": {},
   "outputs": [],
   "source": [
    "import chromadb\n",
    "from chromadb.utils import embedding_functions"
   ]
  },
  {
   "cell_type": "code",
   "execution_count": null,
   "metadata": {},
   "outputs": [],
   "source": []
  }
 ],
 "metadata": {
  "kernelspec": {
   "display_name": "rag-QupOUSK4-py3.8",
   "language": "python",
   "name": "python3"
  },
  "language_info": {
   "codemirror_mode": {
    "name": "ipython",
    "version": 3
   },
   "file_extension": ".py",
   "mimetype": "text/x-python",
   "name": "python",
   "nbconvert_exporter": "python",
   "pygments_lexer": "ipython3",
   "version": "3.8.10"
  }
 },
 "nbformat": 4,
 "nbformat_minor": 2
}
